{
 "cells": [
  {
   "cell_type": "code",
   "execution_count": 12,
   "metadata": {},
   "outputs": [],
   "source": [
    "from scipy.stats import poisson, chi2"
   ]
  },
  {
   "cell_type": "code",
   "execution_count": 31,
   "metadata": {},
   "outputs": [],
   "source": [
    "LAMBDA = 0.0426\n",
    "NUMBER_OF_CATEGORY = 3\n",
    "EVENT = tuple([68, 23, 4])\n",
    "TOTAL_EVENT = sum(EVENT)"
   ]
  },
  {
   "cell_type": "code",
   "execution_count": 32,
   "metadata": {},
   "outputs": [],
   "source": [
    "expected = tuple([poisson.pmf(mu=LAMBDA, k=n)*TOTAL_EVENT for n in range(NUMBER_OF_CATEGORY)])"
   ]
  },
  {
   "cell_type": "code",
   "execution_count": 33,
   "metadata": {},
   "outputs": [
    {
     "data": {
      "text/plain": [
       "(91.03798997028781, 3.87821837273426, 0.08260605133923972)"
      ]
     },
     "execution_count": 33,
     "metadata": {},
     "output_type": "execute_result"
    }
   ],
   "source": [
    "expected"
   ]
  },
  {
   "cell_type": "code",
   "execution_count": 34,
   "metadata": {},
   "outputs": [],
   "source": [
    "def chisquareTest(observed, expected, alpha):\n",
    "    degree_of_freedom = len(observed) -  1\n",
    "\n",
    "    test_static = sum([pow((obs - exp),2)/exp for obs, exp in zip(observed, expected)])\n",
    "\n",
    "    lower_limit = chi2.ppf(alpha/2, degree_of_freedom)\n",
    "    upper_limit = chi2.ppf(1 - (alpha/2), degree_of_freedom)\n",
    "\n",
    "    return f\"Lower_limit {lower_limit:.2f} Upper_limit {upper_limit:.2f} test_static {test_static:.2f}\""
   ]
  },
  {
   "cell_type": "code",
   "execution_count": 35,
   "metadata": {},
   "outputs": [
    {
     "data": {
      "text/plain": [
       "'Lower_limit 0.05 Upper_limit 7.38 test_static 285.88'"
      ]
     },
     "execution_count": 35,
     "metadata": {},
     "output_type": "execute_result"
    }
   ],
   "source": [
    "chisquareTest(observed=EVENT, expected=expected, alpha=0.05)"
   ]
  },
  {
   "cell_type": "code",
   "execution_count": 36,
   "metadata": {},
   "outputs": [],
   "source": [
    "def solution(target, coins):\n",
    "\n",
    "    def helper(total, index, ans):\n",
    "        \n",
    "        if total == target and ans not in sol:\n",
    "            sol.append(ans.copy())\n",
    "            return\n",
    "        if total > target or index >= len(coins):\n",
    "            return\n",
    "            \n",
    "        for i in range(1, (target//coins[index])+1):\n",
    "            ans[coins[index]] = i \n",
    "            helper(total + coins[index]*i, index + 1, ans)\n",
    "            ans[coins[index]] = 0\n",
    "            helper(total, index + 1, ans)\n",
    "        return\n",
    "    sol = []\n",
    "    helper(0, 0, {coin: 0 for coin in coins})\n",
    "    return sol"
   ]
  },
  {
   "cell_type": "code",
   "execution_count": 37,
   "metadata": {},
   "outputs": [],
   "source": [
    "CONDITIONAL_PROBS = {1: 0.55, 2: 0.23, 3: 0.16, 4: 0.06}"
   ]
  },
  {
   "cell_type": "code",
   "execution_count": 38,
   "metadata": {},
   "outputs": [],
   "source": [
    "def CompoundPoissonProcess(size, weeks=12):\n",
    "    sol = solution(size, list(CONDITIONAL_PROBS.keys()))\n",
    "\n",
    "    lambdas = {key: weeks*LAMBDA*CONDITIONAL_PROBS[key] for key in CONDITIONAL_PROBS}\n",
    "    total = 0\n",
    "\n",
    "    for item in  sol:\n",
    "        ans = 1\n",
    "        for key in item:\n",
    "            ans = ans*(poisson.pmf(mu=lambdas[key], k=item[key]))\n",
    "        total += ans\n",
    "    return ans"
   ]
  },
  {
   "cell_type": "code",
   "execution_count": 40,
   "metadata": {},
   "outputs": [
    {
     "data": {
      "text/plain": [
       "0.16863285604736267"
      ]
     },
     "execution_count": 40,
     "metadata": {},
     "output_type": "execute_result"
    }
   ],
   "source": [
    "CompoundPoissonProcess(1)"
   ]
  },
  {
   "cell_type": "code",
   "execution_count": null,
   "metadata": {},
   "outputs": [],
   "source": []
  }
 ],
 "metadata": {
  "interpreter": {
   "hash": "6f5ee4a9e5c151d77f3215496d51d4e0fa482742f72dd51e321a9e480d96615a"
  },
  "kernelspec": {
   "display_name": "Python 3.9.5 64-bit ('base': conda)",
   "language": "python",
   "name": "python3"
  },
  "language_info": {
   "codemirror_mode": {
    "name": "ipython",
    "version": 3
   },
   "file_extension": ".py",
   "mimetype": "text/x-python",
   "name": "python",
   "nbconvert_exporter": "python",
   "pygments_lexer": "ipython3",
   "version": "3.9.5"
  },
  "orig_nbformat": 4
 },
 "nbformat": 4,
 "nbformat_minor": 2
}
